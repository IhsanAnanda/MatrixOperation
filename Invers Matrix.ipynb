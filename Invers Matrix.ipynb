{
 "cells": [
  {
   "cell_type": "code",
   "execution_count": 1,
   "id": "54344425",
   "metadata": {},
   "outputs": [],
   "source": [
    "import numpy as np\n",
    "matrix = []\n",
    "baris = 0\n",
    "kolom = 0"
   ]
  },
  {
   "cell_type": "code",
   "execution_count": 2,
   "id": "d78bf8cb",
   "metadata": {},
   "outputs": [],
   "source": [
    "def deklarasi_matrix():\n",
    "    global matrix\n",
    "    global baris\n",
    "    global kolom\n",
    "    #deklarasi matrix sementara\n",
    "    baris = int(input(\"Masukkan Jumlah Baris : \"))\n",
    "    kolom = int(input(\"Masukkan Jumlah Kolom : \"))\n",
    "    matrix = np.zeros((baris, kolom))\n",
    "    print(\"Matrix sementara : \")\n",
    "    print(matrix)\n",
    "    main()"
   ]
  },
  {
   "cell_type": "code",
   "execution_count": 3,
   "id": "5cc79b71",
   "metadata": {},
   "outputs": [],
   "source": [
    "def input_matrix():\n",
    "    global matrix\n",
    "    global baris\n",
    "    global kolom\n",
    "    #input data ke matrix\n",
    "    for x in range(baris):\n",
    "        for y in range(kolom):\n",
    "            print(\"Masukkan Nilai Baris-\", x, \" Kolom-\", y, \" : \")\n",
    "            a = float(input())\n",
    "            matrix[x][y] = a\n",
    "    main()"
   ]
  },
  {
   "cell_type": "code",
   "execution_count": 4,
   "id": "1dead777",
   "metadata": {},
   "outputs": [],
   "source": [
    "def invers_matrix():\n",
    "    print(\"Determinant Matrix : \", np.linalg.det(matrix))\n",
    "    print(\"Invers Matrix : \")\n",
    "    hasil = np.linalg.inv(matrix)\n",
    "    print(hasil)\n",
    "    main()"
   ]
  },
  {
   "cell_type": "code",
   "execution_count": 5,
   "id": "fbc69abe",
   "metadata": {},
   "outputs": [],
   "source": [
    "def menu():\n",
    "    print(\"Pilih Operasi : \")\n",
    "    print(\"1. Deklarasi Ukuran Matrix\")\n",
    "    print(\"2. Masukkan Data Matrix\")\n",
    "    print(\"3. Kosongkan Matrix\")\n",
    "    print(\"4. Lihat Data Matrix\")\n",
    "    print(\"5. Invers Matrix\")"
   ]
  },
  {
   "cell_type": "code",
   "execution_count": 6,
   "id": "552ecb90",
   "metadata": {},
   "outputs": [],
   "source": [
    "def main():\n",
    "    menu()\n",
    "    global matrix\n",
    "    pilihan = int(input(\"Masukkan Pilihan Operasi : \"))\n",
    "    if pilihan == 1:\n",
    "        deklarasi_matrix()\n",
    "    elif pilihan == 2:\n",
    "        input_matrix()\n",
    "    elif pilihan == 3:\n",
    "        matrix = np.zeros((2, 2))\n",
    "        main()\n",
    "    elif pilihan == 4:\n",
    "        print(\"Matrix Baru : \")\n",
    "        print(matrix)\n",
    "        main()\n",
    "    elif pilihan == 5:\n",
    "        invers_matrix()\n",
    "    else :\n",
    "        print(\"Pilihan Tidak Tersedia\")"
   ]
  },
  {
   "cell_type": "code",
   "execution_count": 8,
   "id": "e4d6c8ae",
   "metadata": {
    "scrolled": true
   },
   "outputs": [
    {
     "name": "stdout",
     "output_type": "stream",
     "text": [
      "Pilih Operasi : \n",
      "1. Deklarasi Ukuran Matrix\n",
      "2. Masukkan Data Matrix\n",
      "3. Kosongkan Matrix\n",
      "4. Lihat Data Matrix\n",
      "5. Invers Matrix\n",
      "Masukkan Pilihan Operasi : 1\n",
      "Masukkan Jumlah Baris : 3\n",
      "Masukkan Jumlah Kolom : 3\n",
      "Matrix sementara : \n",
      "[[0. 0. 0.]\n",
      " [0. 0. 0.]\n",
      " [0. 0. 0.]]\n",
      "Pilih Operasi : \n",
      "1. Deklarasi Ukuran Matrix\n",
      "2. Masukkan Data Matrix\n",
      "3. Kosongkan Matrix\n",
      "4. Lihat Data Matrix\n",
      "5. Invers Matrix\n",
      "Masukkan Pilihan Operasi : 2\n",
      "Masukkan Nilai Baris- 0  Kolom- 0  : \n",
      "1\n",
      "Masukkan Nilai Baris- 0  Kolom- 1  : \n",
      "2\n",
      "Masukkan Nilai Baris- 0  Kolom- 2  : \n",
      "3\n",
      "Masukkan Nilai Baris- 1  Kolom- 0  : \n",
      "0\n",
      "Masukkan Nilai Baris- 1  Kolom- 1  : \n",
      "1\n",
      "Masukkan Nilai Baris- 1  Kolom- 2  : \n",
      "4\n",
      "Masukkan Nilai Baris- 2  Kolom- 0  : \n",
      "5\n",
      "Masukkan Nilai Baris- 2  Kolom- 1  : \n",
      "6\n",
      "Masukkan Nilai Baris- 2  Kolom- 2  : \n",
      "0\n",
      "Pilih Operasi : \n",
      "1. Deklarasi Ukuran Matrix\n",
      "2. Masukkan Data Matrix\n",
      "3. Kosongkan Matrix\n",
      "4. Lihat Data Matrix\n",
      "5. Invers Matrix\n",
      "Masukkan Pilihan Operasi : 5\n",
      "Determinant Matrix :  0.9999999999999964\n",
      "Invers Matrix : \n",
      "[[-24.  18.   5.]\n",
      " [ 20. -15.  -4.]\n",
      " [ -5.   4.   1.]]\n",
      "Pilih Operasi : \n",
      "1. Deklarasi Ukuran Matrix\n",
      "2. Masukkan Data Matrix\n",
      "3. Kosongkan Matrix\n",
      "4. Lihat Data Matrix\n",
      "5. Invers Matrix\n",
      "Masukkan Pilihan Operasi : 6\n",
      "Pilihan Tidak Tersedia\n"
     ]
    }
   ],
   "source": [
    "main()"
   ]
  },
  {
   "cell_type": "code",
   "execution_count": null,
   "id": "a3f4c7a0",
   "metadata": {},
   "outputs": [],
   "source": [
    "a = \"Ini Variable Global\"\n",
    "b = \"Ini Bisa Dipakai Sama Semua Function\""
   ]
  },
  {
   "cell_type": "code",
   "execution_count": null,
   "id": "c9bb2499",
   "metadata": {},
   "outputs": [],
   "source": [
    "def coba():\n",
    "    global b\n",
    "    b = \"Ini Variable b yg Baru\"\n",
    "    a = \"Ini Punya Si Coba\"\n",
    "    c = \"Ini Variable Lokal\"\n",
    "    print(a)\n",
    "    print(c)\n",
    "    print(b)"
   ]
  },
  {
   "cell_type": "code",
   "execution_count": null,
   "id": "d136533e",
   "metadata": {},
   "outputs": [],
   "source": [
    "print(a)\n",
    "print(b)\n",
    "print(c)"
   ]
  },
  {
   "cell_type": "code",
   "execution_count": null,
   "id": "6c91658d",
   "metadata": {},
   "outputs": [],
   "source": [
    "coba()\n",
    "print(b)"
   ]
  },
  {
   "cell_type": "code",
   "execution_count": null,
   "id": "5223e338",
   "metadata": {},
   "outputs": [],
   "source": []
  }
 ],
 "metadata": {
  "kernelspec": {
   "display_name": "Python 3 (ipykernel)",
   "language": "python",
   "name": "python3"
  },
  "language_info": {
   "codemirror_mode": {
    "name": "ipython",
    "version": 3
   },
   "file_extension": ".py",
   "mimetype": "text/x-python",
   "name": "python",
   "nbconvert_exporter": "python",
   "pygments_lexer": "ipython3",
   "version": "3.7.13"
  }
 },
 "nbformat": 4,
 "nbformat_minor": 5
}
