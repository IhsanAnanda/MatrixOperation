{
 "cells": [
  {
   "cell_type": "code",
   "execution_count": 3,
   "id": "a8aeac7e",
   "metadata": {},
   "outputs": [
    {
     "name": "stdout",
     "output_type": "stream",
     "text": [
      "Masukkan Jumlah Baris : 3\n",
      "Masukkan Jumlah Kolom : 3\n",
      "Matrix sementara : \n",
      "[[0. 0. 0.]\n",
      " [0. 0. 0.]\n",
      " [0. 0. 0.]]\n",
      "Masukkan Nilai Baris- 0  Kolom- 0  : \n",
      "1\n",
      "Masukkan Nilai Baris- 0  Kolom- 1  : \n",
      "2\n",
      "Masukkan Nilai Baris- 0  Kolom- 2  : \n",
      "3\n",
      "Masukkan Nilai Baris- 1  Kolom- 0  : \n",
      "0\n",
      "Masukkan Nilai Baris- 1  Kolom- 1  : \n",
      "1\n",
      "Masukkan Nilai Baris- 1  Kolom- 2  : \n",
      "4\n",
      "Masukkan Nilai Baris- 2  Kolom- 0  : \n",
      "5\n",
      "Masukkan Nilai Baris- 2  Kolom- 1  : \n",
      "6\n",
      "Masukkan Nilai Baris- 2  Kolom- 2  : \n",
      "0\n",
      "Matrix baru : \n",
      "[[1. 2. 3.]\n",
      " [0. 1. 4.]\n",
      " [5. 6. 0.]]\n",
      "Determinant Matrix :  0.9999999999999964\n",
      "Invers Matrix : \n",
      "[[-24.  18.   5.]\n",
      " [ 20. -15.  -4.]\n",
      " [ -5.   4.   1.]]\n"
     ]
    }
   ],
   "source": [
    "import numpy as np\n",
    "\n",
    "#deklarasi matrix sementara\n",
    "baris = int(input(\"Masukkan Jumlah Baris : \"))\n",
    "kolom = int(input(\"Masukkan Jumlah Kolom : \"))\n",
    "matrix = np.zeros((baris, kolom))\n",
    "print(\"Matrix sementara : \")\n",
    "print(matrix)\n",
    "\n",
    "#input data ke matrix\n",
    "for x in range(baris):\n",
    "    for y in range(kolom):\n",
    "        print(\"Masukkan Nilai Baris-\", x, \" Kolom-\", y, \" : \")\n",
    "        a = float(input())\n",
    "        matrix[x][y] = a\n",
    "\n",
    "print(\"Matrix baru : \")\n",
    "print(matrix)\n",
    "\n",
    "print(\"Determinant Matrix : \", np.linalg.det(matrix))\n",
    "print(\"Invers Matrix : \")\n",
    "hasil = np.linalg.inv(matrix)\n",
    "print(hasil)"
   ]
  },
  {
   "cell_type": "code",
   "execution_count": null,
   "id": "dc0abe87",
   "metadata": {},
   "outputs": [],
   "source": []
  }
 ],
 "metadata": {
  "kernelspec": {
   "display_name": "Python 3 (ipykernel)",
   "language": "python",
   "name": "python3"
  },
  "language_info": {
   "codemirror_mode": {
    "name": "ipython",
    "version": 3
   },
   "file_extension": ".py",
   "mimetype": "text/x-python",
   "name": "python",
   "nbconvert_exporter": "python",
   "pygments_lexer": "ipython3",
   "version": "3.7.13"
  }
 },
 "nbformat": 4,
 "nbformat_minor": 5
}
